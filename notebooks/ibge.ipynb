{
 "cells": [
  {
   "cell_type": "markdown",
   "metadata": {},
   "source": [
    "# Notebook para extrair dados do IBGE"
   ]
  },
  {
   "cell_type": "code",
   "execution_count": 1,
   "metadata": {},
   "outputs": [],
   "source": [
    "# imports\n",
    "import json\n",
    "import requests\n",
    "import pandas as pd"
   ]
  },
  {
   "cell_type": "markdown",
   "metadata": {},
   "source": [
    "## População residente estimada Irará "
   ]
  },
  {
   "cell_type": "code",
   "execution_count": 2,
   "metadata": {},
   "outputs": [],
   "source": [
    "def get_population_data(url):\n",
    "    # Fazer uma solicitação à API\n",
    "    response = requests.get(url)\n",
    "    # Verificar se a solicitação foi bem-sucedida\n",
    "    if response.status_code == 200:\n",
    "        print(\"Response status:\", response.status_code)\n",
    "        # Obter o corpo da resposta\n",
    "        data = response.json()\n",
    "    else:\n",
    "        print(\"Erro ao consultar a API\")\n",
    "        return None\n",
    "\n",
    "    # Acessando as informações de interesse\n",
    "    id_valor = data[0]['id']\n",
    "    variavel = data[0]['variavel']\n",
    "    unidade = data[0]['unidade']\n",
    "\n",
    "    # Acessando os resultados\n",
    "    resultados = data[0]['resultados']\n",
    "\n",
    "    # Lista para armazenar os dados\n",
    "    population_data = []\n",
    "\n",
    "    # Acessando informações dentro de resultados\n",
    "    for resultado in resultados:\n",
    "        localidade = resultado['series'][0]['localidade']['nome']\n",
    "\n",
    "        # Acessando o valor para o ano dinâmico\n",
    "        for chave, valor in resultado['series'][0]['serie'].items():\n",
    "            ano = chave\n",
    "            valor_populacao = valor\n",
    "\n",
    "            # Adicionando os dados na lista\n",
    "            population_data.append({\n",
    "                'ID': id_valor,\n",
    "                'Variável': variavel,\n",
    "                'Unidade': unidade,\n",
    "                'Localidade': localidade,\n",
    "                'Ano': ano,\n",
    "                'Valor de População': valor_populacao\n",
    "            })\n",
    "\n",
    "    # Criando um DataFrame com os dados\n",
    "    df = pd.DataFrame(population_data)\n",
    "\n",
    "    # Salvando o DataFrame em um arquivo xlsx\n",
    "    output_file = '/home/eric/projetos privados/bambu/data/irara_population_data.xlsx'\n",
    "    df.to_excel(output_file, index=False, engine='openpyxl')\n",
    "    print(f\"Os dados foram salvos no arquivo {output_file}\")\n",
    "\n",
    "    return df"
   ]
  },
  {
   "cell_type": "code",
   "execution_count": 3,
   "metadata": {},
   "outputs": [
    {
     "name": "stdout",
     "output_type": "stream",
     "text": [
      "Response status: 200\n",
      "Os dados foram salvos no arquivo /home/eric/projetos privados/bambu/data/irara_population_data.xlsx\n"
     ]
    }
   ],
   "source": [
    "# Definir a URL da API do IBGE\n",
    "url = \"http://servicodados.ibge.gov.br/api/v3/agregados/6579/periodos/2021/variaveis/9324?localidades=N6[2914505]\"\n",
    "\n",
    "# Chamando a função para obter os dados e salvar o arquivo\n",
    "population_df = get_population_data(url)"
   ]
  },
  {
   "cell_type": "code",
   "execution_count": 4,
   "metadata": {},
   "outputs": [
    {
     "data": {
      "text/html": [
       "<div>\n",
       "<style scoped>\n",
       "    .dataframe tbody tr th:only-of-type {\n",
       "        vertical-align: middle;\n",
       "    }\n",
       "\n",
       "    .dataframe tbody tr th {\n",
       "        vertical-align: top;\n",
       "    }\n",
       "\n",
       "    .dataframe thead th {\n",
       "        text-align: right;\n",
       "    }\n",
       "</style>\n",
       "<table border=\"1\" class=\"dataframe\">\n",
       "  <thead>\n",
       "    <tr style=\"text-align: right;\">\n",
       "      <th></th>\n",
       "      <th>ID</th>\n",
       "      <th>Variável</th>\n",
       "      <th>Unidade</th>\n",
       "      <th>Localidade</th>\n",
       "      <th>Ano</th>\n",
       "      <th>Valor de População</th>\n",
       "    </tr>\n",
       "  </thead>\n",
       "  <tbody>\n",
       "    <tr>\n",
       "      <th>0</th>\n",
       "      <td>9324</td>\n",
       "      <td>População residente estimada</td>\n",
       "      <td>Pessoas</td>\n",
       "      <td>Irará (BA)</td>\n",
       "      <td>2021</td>\n",
       "      <td>29305</td>\n",
       "    </tr>\n",
       "  </tbody>\n",
       "</table>\n",
       "</div>"
      ],
      "text/plain": [
       "     ID                      Variável  Unidade  Localidade   Ano   \n",
       "0  9324  População residente estimada  Pessoas  Irará (BA)  2021  \\\n",
       "\n",
       "  Valor de População  \n",
       "0              29305  "
      ]
     },
     "execution_count": 4,
     "metadata": {},
     "output_type": "execute_result"
    }
   ],
   "source": [
    "population_df"
   ]
  },
  {
   "cell_type": "markdown",
   "metadata": {},
   "source": [
    "# Trabalho e rendimento"
   ]
  },
  {
   "cell_type": "code",
   "execution_count": null,
   "metadata": {},
   "outputs": [],
   "source": []
  },
  {
   "cell_type": "code",
   "execution_count": null,
   "metadata": {},
   "outputs": [],
   "source": []
  },
  {
   "cell_type": "code",
   "execution_count": null,
   "metadata": {},
   "outputs": [],
   "source": []
  }
 ],
 "metadata": {
  "kernelspec": {
   "display_name": "env",
   "language": "python",
   "name": "python3"
  },
  "language_info": {
   "codemirror_mode": {
    "name": "ipython",
    "version": 3
   },
   "file_extension": ".py",
   "mimetype": "text/x-python",
   "name": "python",
   "nbconvert_exporter": "python",
   "pygments_lexer": "ipython3",
   "version": "3.10.6"
  },
  "orig_nbformat": 4
 },
 "nbformat": 4,
 "nbformat_minor": 2
}
