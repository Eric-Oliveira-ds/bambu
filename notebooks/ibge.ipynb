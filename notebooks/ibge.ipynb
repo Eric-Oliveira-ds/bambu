{
 "cells": [
  {
   "cell_type": "markdown",
   "metadata": {},
   "source": [
    "# Notebook para extrair dados do IBGE"
   ]
  },
  {
   "cell_type": "code",
   "execution_count": 1,
   "metadata": {},
   "outputs": [],
   "source": [
    "# imports\n",
    "import json\n",
    "import requests"
   ]
  },
  {
   "cell_type": "markdown",
   "metadata": {},
   "source": [
    "## População residente estimada (2021) Irará "
   ]
  },
  {
   "cell_type": "code",
   "execution_count": 2,
   "metadata": {},
   "outputs": [
    {
     "name": "stdout",
     "output_type": "stream",
     "text": [
      "Response status: 200\n"
     ]
    }
   ],
   "source": [
    "# Definir a URL da API do IBGE\n",
    "url = \"http://servicodados.ibge.gov.br/api/v3/agregados/6579/periodos/2021/variaveis/9324?localidades=N6[2914505]\"\n",
    "\n",
    "# Fazer uma solicitação à API\n",
    "response = requests.get(url)\n",
    "# Verificar se a solicitação foi bem-sucedida\n",
    "if response.status_code == 200:\n",
    "    print(\"Response status:\", response.status_code)\n",
    "    # Obter o corpo da resposta\n",
    "    data = response.json()\n",
    "else:\n",
    "    print(\"Erro ao consultar a API\")"
   ]
  },
  {
   "cell_type": "code",
   "execution_count": 4,
   "metadata": {},
   "outputs": [
    {
     "data": {
      "text/plain": [
       "[{'id': '9324',\n",
       "  'variavel': 'População residente estimada',\n",
       "  'unidade': 'Pessoas',\n",
       "  'resultados': [{'classificacoes': [],\n",
       "    'series': [{'localidade': {'id': '2914505',\n",
       "       'nivel': {'id': 'N6', 'nome': 'Município'},\n",
       "       'nome': 'Irará (BA)'},\n",
       "      'serie': {'2021': '29305'}}]}]}]"
      ]
     },
     "execution_count": 4,
     "metadata": {},
     "output_type": "execute_result"
    }
   ],
   "source": [
    "data"
   ]
  },
  {
   "cell_type": "code",
   "execution_count": 6,
   "metadata": {},
   "outputs": [
    {
     "name": "stdout",
     "output_type": "stream",
     "text": [
      "ID: 9324\n",
      "Variável: População residente estimada\n",
      "Unidade: Pessoas\n",
      "Localidade: Irará (BA)\n",
      "Ano: 2021\n",
      "Valor de População: 29305\n"
     ]
    }
   ],
   "source": [
    "# Acessando as informações de interesse\n",
    "id_valor = data[0]['id']\n",
    "variavel = data[0]['variavel']\n",
    "unidade = data[0]['unidade']\n",
    "\n",
    "# Acessando os resultados\n",
    "resultados = data[0]['resultados']\n",
    "\n",
    "# Acessando informações dentro de resultados\n",
    "for resultado in resultados:\n",
    "    localidade = resultado['series'][0]['localidade']['nome']\n",
    "\n",
    "    # Acessando o valor para o ano dinâmico\n",
    "    for chave, valor in resultado['series'][0]['serie'].items():\n",
    "        ano = chave\n",
    "        valor_populacao = valor\n",
    "\n",
    "        print(f\"ID: {id_valor}\")\n",
    "        print(f\"Variável: {variavel}\")\n",
    "        print(f\"Unidade: {unidade}\")\n",
    "        print(f\"Localidade: {localidade}\")\n",
    "        print(f\"Ano: {ano}\")\n",
    "        print(f\"Valor de População: {valor_populacao}\")"
   ]
  },
  {
   "cell_type": "code",
   "execution_count": null,
   "metadata": {},
   "outputs": [],
   "source": []
  },
  {
   "cell_type": "code",
   "execution_count": null,
   "metadata": {},
   "outputs": [],
   "source": []
  },
  {
   "cell_type": "code",
   "execution_count": null,
   "metadata": {},
   "outputs": [],
   "source": []
  },
  {
   "cell_type": "code",
   "execution_count": null,
   "metadata": {},
   "outputs": [],
   "source": []
  },
  {
   "cell_type": "code",
   "execution_count": null,
   "metadata": {},
   "outputs": [],
   "source": []
  },
  {
   "cell_type": "code",
   "execution_count": null,
   "metadata": {},
   "outputs": [],
   "source": []
  }
 ],
 "metadata": {
  "kernelspec": {
   "display_name": "env",
   "language": "python",
   "name": "python3"
  },
  "language_info": {
   "codemirror_mode": {
    "name": "ipython",
    "version": 3
   },
   "file_extension": ".py",
   "mimetype": "text/x-python",
   "name": "python",
   "nbconvert_exporter": "python",
   "pygments_lexer": "ipython3",
   "version": "3.10.6"
  },
  "orig_nbformat": 4
 },
 "nbformat": 4,
 "nbformat_minor": 2
}
