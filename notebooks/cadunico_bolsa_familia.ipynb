{
 "cells": [
  {
   "attachments": {},
   "cell_type": "markdown",
   "metadata": {},
   "source": [
    "# Notebook para extrair dados:\n",
    "\n",
    "    - Auxilio Emergencial"
   ]
  },
  {
   "attachments": {},
   "cell_type": "markdown",
   "metadata": {},
   "source": [
    "## Bibliotecas"
   ]
  },
  {
   "cell_type": "code",
   "execution_count": 1,
   "metadata": {},
   "outputs": [],
   "source": [
    "import os\n",
    "import polars as pl\n",
    "import pandas as pd"
   ]
  },
  {
   "attachments": {},
   "cell_type": "markdown",
   "metadata": {},
   "source": [
    "## Extração"
   ]
  },
  {
   "cell_type": "code",
   "execution_count": 2,
   "metadata": {},
   "outputs": [],
   "source": [
    "data_path = '/home/eric/projetos privados/bambu/data/auxilio_emergencial.csv'"
   ]
  },
  {
   "cell_type": "code",
   "execution_count": 3,
   "metadata": {},
   "outputs": [
    {
     "name": "stdout",
     "output_type": "stream",
     "text": [
      "O tamanho do arquivo é de 29.39 GB\n"
     ]
    }
   ],
   "source": [
    "# Obtendo o tamanho do arquivo em bytes\n",
    "tamanho_bytes = os.path.getsize(data_path)\n",
    "\n",
    "# Convertendo o tamanho para gigabytes\n",
    "tamanho_gb = tamanho_bytes / (1024 * 1024 * 1024)\n",
    "\n",
    "# Imprimindo o tamanho em gigabytes\n",
    "print(f'O tamanho do arquivo é de {tamanho_gb:.2f} GB')"
   ]
  },
  {
   "cell_type": "code",
   "execution_count": 4,
   "metadata": {},
   "outputs": [
    {
     "name": "stdout",
     "output_type": "stream",
     "text": [
      "CPU times: user 464 µs, sys: 811 µs, total: 1.28 ms\n",
      "Wall time: 1.5 ms\n"
     ]
    }
   ],
   "source": [
    "%%time\n",
    "df_temp = pl.scan_csv(data_path, ignore_errors = True)"
   ]
  },
  {
   "cell_type": "code",
   "execution_count": 5,
   "metadata": {},
   "outputs": [
    {
     "name": "stdout",
     "output_type": "stream",
     "text": [
      "CPU times: user 66 µs, sys: 115 µs, total: 181 µs\n",
      "Wall time: 187 µs\n"
     ]
    }
   ],
   "source": [
    "%%time\n",
    "df_result = df_temp.filter(pl.col(['municipio'])==\"Irará\")"
   ]
  },
  {
   "cell_type": "code",
   "execution_count": 6,
   "metadata": {},
   "outputs": [
    {
     "data": {
      "text/plain": [
       "['ano_mes',\n",
       " 'uf',\n",
       " 'codigo_ibge_municipio',\n",
       " 'municipio',\n",
       " 'nis_beneficiario',\n",
       " 'cpf_beneficiario',\n",
       " 'beneficiario',\n",
       " 'nis_responsavel',\n",
       " 'cpf_responsavel',\n",
       " 'responsavel',\n",
       " 'enquadramento',\n",
       " 'parcela',\n",
       " 'observacao',\n",
       " 'valor']"
      ]
     },
     "execution_count": 6,
     "metadata": {},
     "output_type": "execute_result"
    }
   ],
   "source": [
    "df_result.columns"
   ]
  },
  {
   "cell_type": "code",
   "execution_count": 7,
   "metadata": {},
   "outputs": [
    {
     "name": "stdout",
     "output_type": "stream",
     "text": [
      "CPU times: user 6min 47s, sys: 2min 9s, total: 8min 56s\n",
      "Wall time: 38.9 s\n"
     ]
    }
   ],
   "source": [
    "%%time\n",
    "df_final = df_result.collect().to_pandas()"
   ]
  },
  {
   "cell_type": "code",
   "execution_count": 8,
   "metadata": {},
   "outputs": [],
   "source": [
    "path_save = '/home/eric/projetos privados/bambu/data/auxilio_emergencial_irara.csv'"
   ]
  },
  {
   "cell_type": "code",
   "execution_count": 9,
   "metadata": {},
   "outputs": [
    {
     "name": "stdout",
     "output_type": "stream",
     "text": [
      "CPU times: user 227 ms, sys: 9.97 ms, total: 237 ms\n",
      "Wall time: 235 ms\n"
     ]
    }
   ],
   "source": [
    "%%time\n",
    "df_final.to_csv(path_save, index=False)"
   ]
  }
 ],
 "metadata": {
  "kernelspec": {
   "display_name": "env",
   "language": "python",
   "name": "python3"
  },
  "language_info": {
   "codemirror_mode": {
    "name": "ipython",
    "version": 3
   },
   "file_extension": ".py",
   "mimetype": "text/x-python",
   "name": "python",
   "nbconvert_exporter": "python",
   "pygments_lexer": "ipython3",
   "version": "3.10.6"
  },
  "orig_nbformat": 4
 },
 "nbformat": 4,
 "nbformat_minor": 2
}
