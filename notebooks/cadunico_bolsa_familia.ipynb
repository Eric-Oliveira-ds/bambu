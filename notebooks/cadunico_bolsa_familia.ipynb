{
 "cells": [
  {
   "attachments": {},
   "cell_type": "markdown",
   "metadata": {},
   "source": [
    "# Notebook para extrair dados:\n",
    "\n",
    "    - Auxilio Emergencial"
   ]
  },
  {
   "attachments": {},
   "cell_type": "markdown",
   "metadata": {},
   "source": [
    "## Bibliotecas"
   ]
  },
  {
   "cell_type": "code",
   "execution_count": 1,
   "metadata": {},
   "outputs": [],
   "source": [
    "import os\n",
    "import polars as pl\n",
    "import pandas as pd"
   ]
  },
  {
   "attachments": {},
   "cell_type": "markdown",
   "metadata": {},
   "source": [
    "## Extração"
   ]
  },
  {
   "cell_type": "code",
   "execution_count": 2,
   "metadata": {},
   "outputs": [],
   "source": [
    "data_path = '/home/eric/projetos privados/bambu/data/auxilio_emergencial.csv'"
   ]
  },
  {
   "cell_type": "code",
   "execution_count": 3,
   "metadata": {},
   "outputs": [
    {
     "name": "stdout",
     "output_type": "stream",
     "text": [
      "O tamanho do arquivo é de 29.39 GB\n"
     ]
    }
   ],
   "source": [
    "# Obtendo o tamanho do arquivo em bytes\n",
    "tamanho_bytes = os.path.getsize(data_path)\n",
    "\n",
    "# Convertendo o tamanho para gigabytes\n",
    "tamanho_gb = tamanho_bytes / (1024 * 1024 * 1024)\n",
    "\n",
    "# Imprimindo o tamanho em gigabytes\n",
    "print(f'O tamanho do arquivo é de {tamanho_gb:.2f} GB')"
   ]
  },
  {
   "cell_type": "code",
   "execution_count": 4,
   "metadata": {},
   "outputs": [
    {
     "name": "stdout",
     "output_type": "stream",
     "text": [
      "CPU times: user 3.69 ms, sys: 0 ns, total: 3.69 ms\n",
      "Wall time: 10.5 ms\n"
     ]
    }
   ],
   "source": [
    "%%time\n",
    "df_temp = pl.scan_csv(data_path, ignore_errors = True)"
   ]
  },
  {
   "cell_type": "code",
   "execution_count": 5,
   "metadata": {},
   "outputs": [
    {
     "name": "stdout",
     "output_type": "stream",
     "text": [
      "CPU times: user 49 µs, sys: 70 µs, total: 119 µs\n",
      "Wall time: 122 µs\n"
     ]
    }
   ],
   "source": [
    "%%time\n",
    "df_result = df_temp.filter(pl.col(['municipio'])==\"Irará\")"
   ]
  },
  {
   "cell_type": "code",
   "execution_count": 6,
   "metadata": {},
   "outputs": [
    {
     "data": {
      "text/plain": [
       "['ano_mes',\n",
       " 'uf',\n",
       " 'codigo_ibge_municipio',\n",
       " 'municipio',\n",
       " 'nis_beneficiario',\n",
       " 'cpf_beneficiario',\n",
       " 'beneficiario',\n",
       " 'nis_responsavel',\n",
       " 'cpf_responsavel',\n",
       " 'responsavel',\n",
       " 'enquadramento',\n",
       " 'parcela',\n",
       " 'observacao',\n",
       " 'valor']"
      ]
     },
     "execution_count": 6,
     "metadata": {},
     "output_type": "execute_result"
    }
   ],
   "source": [
    "df_result.columns"
   ]
  },
  {
   "cell_type": "code",
   "execution_count": 18,
   "metadata": {},
   "outputs": [],
   "source": [
    "df_final = df_result.collect().to_pandas()"
   ]
  },
  {
   "cell_type": "code",
   "execution_count": 22,
   "metadata": {},
   "outputs": [
    {
     "data": {
      "text/html": [
       "<div>\n",
       "<style scoped>\n",
       "    .dataframe tbody tr th:only-of-type {\n",
       "        vertical-align: middle;\n",
       "    }\n",
       "\n",
       "    .dataframe tbody tr th {\n",
       "        vertical-align: top;\n",
       "    }\n",
       "\n",
       "    .dataframe thead th {\n",
       "        text-align: right;\n",
       "    }\n",
       "</style>\n",
       "<table border=\"1\" class=\"dataframe\">\n",
       "  <thead>\n",
       "    <tr style=\"text-align: right;\">\n",
       "      <th></th>\n",
       "      <th>ano_mes</th>\n",
       "      <th>uf</th>\n",
       "      <th>codigo_ibge_municipio</th>\n",
       "      <th>municipio</th>\n",
       "      <th>nis_beneficiario</th>\n",
       "      <th>cpf_beneficiario</th>\n",
       "      <th>beneficiario</th>\n",
       "      <th>nis_responsavel</th>\n",
       "      <th>cpf_responsavel</th>\n",
       "      <th>responsavel</th>\n",
       "      <th>enquadramento</th>\n",
       "      <th>parcela</th>\n",
       "      <th>observacao</th>\n",
       "      <th>valor</th>\n",
       "    </tr>\n",
       "  </thead>\n",
       "  <tbody>\n",
       "    <tr>\n",
       "      <th>0</th>\n",
       "      <td>202004</td>\n",
       "      <td>BA</td>\n",
       "      <td>2914505</td>\n",
       "      <td>Irará</td>\n",
       "      <td>2.040282e+10</td>\n",
       "      <td>***907215**</td>\n",
       "      <td>ABADE DE SOUZA DO ROSARIO</td>\n",
       "      <td>20402824843</td>\n",
       "      <td>***907215**</td>\n",
       "      <td>ABADE DE SOUZA DO ROSARIO</td>\n",
       "      <td>BOLSA FAMILIA</td>\n",
       "      <td>1</td>\n",
       "      <td>None</td>\n",
       "      <td>600.0</td>\n",
       "    </tr>\n",
       "    <tr>\n",
       "      <th>1</th>\n",
       "      <td>202004</td>\n",
       "      <td>BA</td>\n",
       "      <td>2914505</td>\n",
       "      <td>Irará</td>\n",
       "      <td>1.608792e+10</td>\n",
       "      <td>***541315**</td>\n",
       "      <td>ABDIAS ALVES PINHEIRO</td>\n",
       "      <td>16087915029</td>\n",
       "      <td>***541315**</td>\n",
       "      <td>ABDIAS ALVES PINHEIRO</td>\n",
       "      <td>BOLSA FAMILIA</td>\n",
       "      <td>1</td>\n",
       "      <td>None</td>\n",
       "      <td>600.0</td>\n",
       "    </tr>\n",
       "    <tr>\n",
       "      <th>2</th>\n",
       "      <td>202004</td>\n",
       "      <td>BA</td>\n",
       "      <td>2914505</td>\n",
       "      <td>Irará</td>\n",
       "      <td>2.004352e+10</td>\n",
       "      <td>***974005**</td>\n",
       "      <td>ABEL ACACIO DE JESUS LIMA</td>\n",
       "      <td>20043516054</td>\n",
       "      <td>***974005**</td>\n",
       "      <td>ABEL ACACIO DE JESUS LIMA</td>\n",
       "      <td>BOLSA FAMILIA</td>\n",
       "      <td>1</td>\n",
       "      <td>None</td>\n",
       "      <td>600.0</td>\n",
       "    </tr>\n",
       "    <tr>\n",
       "      <th>3</th>\n",
       "      <td>202004</td>\n",
       "      <td>BA</td>\n",
       "      <td>2914505</td>\n",
       "      <td>Irará</td>\n",
       "      <td>1.608791e+10</td>\n",
       "      <td>***517075**</td>\n",
       "      <td>ABEL CERQUEIRA DOS REIS</td>\n",
       "      <td>20983560042</td>\n",
       "      <td>***212285**</td>\n",
       "      <td>ANA CLAUDIA FERREIRA DA SILVA</td>\n",
       "      <td>BOLSA FAMILIA</td>\n",
       "      <td>1</td>\n",
       "      <td>None</td>\n",
       "      <td>600.0</td>\n",
       "    </tr>\n",
       "    <tr>\n",
       "      <th>4</th>\n",
       "      <td>202004</td>\n",
       "      <td>BA</td>\n",
       "      <td>2914505</td>\n",
       "      <td>Irará</td>\n",
       "      <td>1.615857e+10</td>\n",
       "      <td>***396725**</td>\n",
       "      <td>ABEL DE CERQUEIRA GONCALVES</td>\n",
       "      <td>20695943973</td>\n",
       "      <td>***000000**</td>\n",
       "      <td>CRISPINIANA PEREIRA DOS SANTOS</td>\n",
       "      <td>BOLSA FAMILIA</td>\n",
       "      <td>1</td>\n",
       "      <td>None</td>\n",
       "      <td>600.0</td>\n",
       "    </tr>\n",
       "  </tbody>\n",
       "</table>\n",
       "</div>"
      ],
      "text/plain": [
       "   ano_mes  uf  codigo_ibge_municipio municipio  nis_beneficiario  \\\n",
       "0   202004  BA                2914505     Irará      2.040282e+10   \n",
       "1   202004  BA                2914505     Irará      1.608792e+10   \n",
       "2   202004  BA                2914505     Irará      2.004352e+10   \n",
       "3   202004  BA                2914505     Irará      1.608791e+10   \n",
       "4   202004  BA                2914505     Irará      1.615857e+10   \n",
       "\n",
       "  cpf_beneficiario                 beneficiario  nis_responsavel  \\\n",
       "0      ***907215**    ABADE DE SOUZA DO ROSARIO      20402824843   \n",
       "1      ***541315**        ABDIAS ALVES PINHEIRO      16087915029   \n",
       "2      ***974005**    ABEL ACACIO DE JESUS LIMA      20043516054   \n",
       "3      ***517075**      ABEL CERQUEIRA DOS REIS      20983560042   \n",
       "4      ***396725**  ABEL DE CERQUEIRA GONCALVES      20695943973   \n",
       "\n",
       "  cpf_responsavel                     responsavel  enquadramento  parcela  \\\n",
       "0     ***907215**       ABADE DE SOUZA DO ROSARIO  BOLSA FAMILIA        1   \n",
       "1     ***541315**           ABDIAS ALVES PINHEIRO  BOLSA FAMILIA        1   \n",
       "2     ***974005**       ABEL ACACIO DE JESUS LIMA  BOLSA FAMILIA        1   \n",
       "3     ***212285**   ANA CLAUDIA FERREIRA DA SILVA  BOLSA FAMILIA        1   \n",
       "4     ***000000**  CRISPINIANA PEREIRA DOS SANTOS  BOLSA FAMILIA        1   \n",
       "\n",
       "  observacao  valor  \n",
       "0       None  600.0  \n",
       "1       None  600.0  \n",
       "2       None  600.0  \n",
       "3       None  600.0  \n",
       "4       None  600.0  "
      ]
     },
     "execution_count": 22,
     "metadata": {},
     "output_type": "execute_result"
    }
   ],
   "source": [
    "df_final.head()"
   ]
  },
  {
   "cell_type": "code",
   "execution_count": 23,
   "metadata": {},
   "outputs": [],
   "source": [
    "path_save = '/home/eric/projetos privados/bambu/data/auxilio_emergencial_irara.csv'"
   ]
  },
  {
   "cell_type": "code",
   "execution_count": 24,
   "metadata": {},
   "outputs": [],
   "source": [
    "df_final.to_csv(path_save, index=False)"
   ]
  }
 ],
 "metadata": {
  "kernelspec": {
   "display_name": "env",
   "language": "python",
   "name": "python3"
  },
  "language_info": {
   "codemirror_mode": {
    "name": "ipython",
    "version": 3
   },
   "file_extension": ".py",
   "mimetype": "text/x-python",
   "name": "python",
   "nbconvert_exporter": "python",
   "pygments_lexer": "ipython3",
   "version": "3.10.6"
  },
  "orig_nbformat": 4
 },
 "nbformat": 4,
 "nbformat_minor": 2
}
