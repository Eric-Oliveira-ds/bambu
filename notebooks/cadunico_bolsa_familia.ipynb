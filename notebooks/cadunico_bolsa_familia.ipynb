{
 "cells": [
  {
   "attachments": {},
   "cell_type": "markdown",
   "metadata": {},
   "source": [
    "# Notebook para extrair dados:\n",
    "\n",
    "    - Auxilio Emergencial"
   ]
  },
  {
   "attachments": {},
   "cell_type": "markdown",
   "metadata": {},
   "source": [
    "## Bibliotecas"
   ]
  },
  {
   "cell_type": "code",
   "execution_count": 1,
   "metadata": {},
   "outputs": [],
   "source": [
    "import os\n",
    "import polars as pl\n",
    "import pandas as pd"
   ]
  },
  {
   "attachments": {},
   "cell_type": "markdown",
   "metadata": {},
   "source": [
    "## Extração"
   ]
  },
  {
   "cell_type": "code",
   "execution_count": 2,
   "metadata": {},
   "outputs": [],
   "source": [
    "data_path = '/home/eric/projetos privados/bambu/data/auxilio_emergencial.csv'"
   ]
  },
  {
   "cell_type": "code",
   "execution_count": 3,
   "metadata": {},
   "outputs": [
    {
     "name": "stdout",
     "output_type": "stream",
     "text": [
      "O tamanho do arquivo é de 29.39 GB\n"
     ]
    }
   ],
   "source": [
    "# Obtendo o tamanho do arquivo em bytes\n",
    "tamanho_bytes = os.path.getsize(data_path)\n",
    "\n",
    "# Convertendo o tamanho para gigabytes\n",
    "tamanho_gb = tamanho_bytes / (1024 * 1024 * 1024)\n",
    "\n",
    "# Imprimindo o tamanho em gigabytes\n",
    "print(f'O tamanho do arquivo é de {tamanho_gb:.2f} GB')"
   ]
  },
  {
   "cell_type": "code",
   "execution_count": 4,
   "metadata": {},
   "outputs": [
    {
     "name": "stdout",
     "output_type": "stream",
     "text": [
      "CPU times: user 556 µs, sys: 974 µs, total: 1.53 ms\n",
      "Wall time: 2.46 ms\n"
     ]
    }
   ],
   "source": [
    "%%time\n",
    "df_temp = pl.scan_csv(data_path, ignore_errors = True)"
   ]
  },
  {
   "cell_type": "code",
   "execution_count": 5,
   "metadata": {},
   "outputs": [
    {
     "name": "stdout",
     "output_type": "stream",
     "text": [
      "CPU times: user 46 µs, sys: 80 µs, total: 126 µs\n",
      "Wall time: 130 µs\n"
     ]
    }
   ],
   "source": [
    "%%time\n",
    "df_result = df_temp.filter(pl.col(['municipio'])==\"Irará\")"
   ]
  },
  {
   "cell_type": "code",
   "execution_count": 6,
   "metadata": {},
   "outputs": [
    {
     "data": {
      "text/plain": [
       "['ano_mes',\n",
       " 'uf',\n",
       " 'codigo_ibge_municipio',\n",
       " 'municipio',\n",
       " 'nis_beneficiario',\n",
       " 'cpf_beneficiario',\n",
       " 'beneficiario',\n",
       " 'nis_responsavel',\n",
       " 'cpf_responsavel',\n",
       " 'responsavel',\n",
       " 'enquadramento',\n",
       " 'parcela',\n",
       " 'observacao',\n",
       " 'valor']"
      ]
     },
     "execution_count": 6,
     "metadata": {},
     "output_type": "execute_result"
    }
   ],
   "source": [
    "df_result.columns"
   ]
  },
  {
   "cell_type": "code",
   "execution_count": 7,
   "metadata": {},
   "outputs": [
    {
     "name": "stdout",
     "output_type": "stream",
     "text": [
      "CPU times: user 5min 8s, sys: 1min 45s, total: 6min 53s\n",
      "Wall time: 31.5 s\n"
     ]
    }
   ],
   "source": [
    "%%time\n",
    "df_final = df_result.collect().to_pandas()"
   ]
  },
  {
   "cell_type": "code",
   "execution_count": 11,
   "metadata": {},
   "outputs": [],
   "source": [
    "path_save = '/home/eric/projetos pessoais/projeto-bambu/bambu/data/auxilio_emergencial_irara.csv'"
   ]
  },
  {
   "cell_type": "code",
   "execution_count": 12,
   "metadata": {},
   "outputs": [
    {
     "name": "stdout",
     "output_type": "stream",
     "text": [
      "CPU times: user 263 ms, sys: 18.4 ms, total: 281 ms\n",
      "Wall time: 277 ms\n"
     ]
    }
   ],
   "source": [
    "%%time\n",
    "df_final.to_csv(path_save, index=False)"
   ]
  },
  {
   "cell_type": "code",
   "execution_count": 13,
   "metadata": {},
   "outputs": [],
   "source": [
    "# teste leitura\n",
    "\n",
    "df_irara = pd.read_csv(path_save)"
   ]
  },
  {
   "cell_type": "code",
   "execution_count": 16,
   "metadata": {},
   "outputs": [
    {
     "name": "stdout",
     "output_type": "stream",
     "text": [
      "<class 'pandas.core.frame.DataFrame'>\n",
      "RangeIndex: 58740 entries, 0 to 58739\n",
      "Data columns (total 14 columns):\n",
      " #   Column                 Non-Null Count  Dtype  \n",
      "---  ------                 --------------  -----  \n",
      " 0   ano_mes                58740 non-null  int64  \n",
      " 1   uf                     58740 non-null  object \n",
      " 2   codigo_ibge_municipio  58740 non-null  int64  \n",
      " 3   municipio              58740 non-null  object \n",
      " 4   nis_beneficiario       50935 non-null  float64\n",
      " 5   cpf_beneficiario       58740 non-null  object \n",
      " 6   beneficiario           58740 non-null  object \n",
      " 7   nis_responsavel        58740 non-null  int64  \n",
      " 8   cpf_responsavel        45776 non-null  object \n",
      " 9   responsavel            45872 non-null  object \n",
      " 10  enquadramento          58740 non-null  object \n",
      " 11  parcela                58740 non-null  int64  \n",
      " 12  observacao             602 non-null    object \n",
      " 13  valor                  58740 non-null  float64\n",
      "dtypes: float64(2), int64(4), object(8)\n",
      "memory usage: 6.3+ MB\n"
     ]
    }
   ],
   "source": [
    "df_irara.info()"
   ]
  },
  {
   "cell_type": "code",
   "execution_count": 15,
   "metadata": {},
   "outputs": [
    {
     "data": {
      "text/plain": [
       "202007    12523\n",
       "202005    12372\n",
       "202004    11850\n",
       "202008    11548\n",
       "202006    10447\n",
       "Name: ano_mes, dtype: int64"
      ]
     },
     "execution_count": 15,
     "metadata": {},
     "output_type": "execute_result"
    }
   ],
   "source": [
    "df_irara['ano_mes'].value_counts()"
   ]
  },
  {
   "cell_type": "code",
   "execution_count": null,
   "metadata": {},
   "outputs": [],
   "source": []
  }
 ],
 "metadata": {
  "kernelspec": {
   "display_name": "env",
   "language": "python",
   "name": "python3"
  },
  "language_info": {
   "codemirror_mode": {
    "name": "ipython",
    "version": 3
   },
   "file_extension": ".py",
   "mimetype": "text/x-python",
   "name": "python",
   "nbconvert_exporter": "python",
   "pygments_lexer": "ipython3",
   "version": "3.10.6"
  },
  "orig_nbformat": 4
 },
 "nbformat": 4,
 "nbformat_minor": 2
}
